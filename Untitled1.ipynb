{
 "cells": [
  {
   "cell_type": "code",
   "execution_count": 1,
   "metadata": {},
   "outputs": [],
   "source": [
    "import pandas as pd\n",
    "import numpy as np\n",
    "import random\n",
    "import re\n",
    "from pathlib import Path\n",
    "import warnings\n",
    "warnings.filterwarnings('ignore')"
   ]
  },
  {
   "cell_type": "code",
   "execution_count": 2,
   "metadata": {},
   "outputs": [],
   "source": [
    "pd.set_option('display.max_columns', None)  # ver todas las columnas"
   ]
  },
  {
   "cell_type": "code",
   "execution_count": 3,
   "metadata": {},
   "outputs": [],
   "source": [
    "actor_csv=pd.read_csv(r'C:\\Users\\USER\\Desktop\\Proyectos\\sql-data-base-building\\data\\actor_clean.csv')\n",
    "caregory_csv=pd.read_csv(r'C:\\Users\\USER\\Desktop\\Proyectos\\sql-data-base-building\\data\\category_clean.csv')\n",
    "film_csv=pd.read_csv(r'C:\\Users\\USER\\Desktop\\Proyectos\\sql-data-base-building\\data\\film_clean.csv')\n",
    "inventory_csv=pd.read_csv(r'C:\\Users\\USER\\Desktop\\Proyectos\\sql-data-base-building\\data\\inventory_clean.csv')\n",
    "language_csv=pd.read_csv(r'C:\\Users\\USER\\Desktop\\Proyectos\\sql-data-base-building\\data\\language_clean.csv')\n",
    "hdd_csv=pd.read_csv(r'C:\\Users\\USER\\Desktop\\Proyectos\\sql-data-base-building\\data\\old_HDD.csv')\n",
    "rental_csv=pd.read_csv(r'C:\\Users\\USER\\Desktop\\Proyectos\\sql-data-base-building\\data\\rental_clean.csv')\n",
    "\n"
   ]
  },
  {
   "cell_type": "code",
   "execution_count": 4,
   "metadata": {},
   "outputs": [
    {
     "name": "stdout",
     "output_type": "stream",
     "text": [
      "<class 'pandas.core.frame.DataFrame'>\n",
      "RangeIndex: 1000 entries, 0 to 999\n",
      "Data columns (total 11 columns):\n",
      "film_id             1000 non-null int64\n",
      "title               1000 non-null object\n",
      "description         1000 non-null object\n",
      "release_year        1000 non-null int64\n",
      "language_id         1000 non-null int64\n",
      "rental_duration     1000 non-null int64\n",
      "rental_rate         1000 non-null float64\n",
      "length              1000 non-null int64\n",
      "replacement_cost    1000 non-null float64\n",
      "rating              1000 non-null object\n",
      "special_features    1000 non-null object\n",
      "dtypes: float64(2), int64(5), object(4)\n",
      "memory usage: 86.1+ KB\n"
     ]
    }
   ],
   "source": [
    "film_csv.info()"
   ]
  },
  {
   "cell_type": "code",
   "execution_count": 6,
   "metadata": {},
   "outputs": [
    {
     "name": "stdout",
     "output_type": "stream",
     "text": [
      "<class 'pandas.core.frame.DataFrame'>\n",
      "RangeIndex: 200 entries, 0 to 199\n",
      "Data columns (total 3 columns):\n",
      "actor_id      200 non-null int64\n",
      "first_name    200 non-null object\n",
      "last_name     200 non-null object\n",
      "dtypes: int64(1), object(2)\n",
      "memory usage: 4.8+ KB\n"
     ]
    }
   ],
   "source": [
    "actor_csv.info()"
   ]
  },
  {
   "cell_type": "code",
   "execution_count": 7,
   "metadata": {},
   "outputs": [
    {
     "name": "stdout",
     "output_type": "stream",
     "text": [
      "<class 'pandas.core.frame.DataFrame'>\n",
      "RangeIndex: 16 entries, 0 to 15\n",
      "Data columns (total 2 columns):\n",
      "category_id    16 non-null int64\n",
      "name           16 non-null object\n",
      "dtypes: int64(1), object(1)\n",
      "memory usage: 384.0+ bytes\n"
     ]
    }
   ],
   "source": [
    "\n",
    "caregory_csv.info()"
   ]
  },
  {
   "cell_type": "code",
   "execution_count": 8,
   "metadata": {},
   "outputs": [
    {
     "name": "stdout",
     "output_type": "stream",
     "text": [
      "<class 'pandas.core.frame.DataFrame'>\n",
      "RangeIndex: 1000 entries, 0 to 999\n",
      "Data columns (total 3 columns):\n",
      "inventory_id    1000 non-null int64\n",
      "film_id         1000 non-null int64\n",
      "store_id        1000 non-null int64\n",
      "dtypes: int64(3)\n",
      "memory usage: 23.6 KB\n"
     ]
    }
   ],
   "source": [
    "\n",
    "inventory_csv.info()"
   ]
  },
  {
   "cell_type": "code",
   "execution_count": 9,
   "metadata": {},
   "outputs": [
    {
     "name": "stdout",
     "output_type": "stream",
     "text": [
      "<class 'pandas.core.frame.DataFrame'>\n",
      "RangeIndex: 6 entries, 0 to 5\n",
      "Data columns (total 2 columns):\n",
      "language_id    6 non-null int64\n",
      "name           6 non-null object\n",
      "dtypes: int64(1), object(1)\n",
      "memory usage: 224.0+ bytes\n"
     ]
    }
   ],
   "source": [
    "\n",
    "language_csv.info()"
   ]
  },
  {
   "cell_type": "code",
   "execution_count": 10,
   "metadata": {},
   "outputs": [
    {
     "name": "stdout",
     "output_type": "stream",
     "text": [
      "<class 'pandas.core.frame.DataFrame'>\n",
      "RangeIndex: 1000 entries, 0 to 999\n",
      "Data columns (total 5 columns):\n",
      "first_name      1000 non-null object\n",
      "last_name       1000 non-null object\n",
      "title           1000 non-null object\n",
      "release_year    1000 non-null int64\n",
      "category_id     1000 non-null int64\n",
      "dtypes: int64(2), object(3)\n",
      "memory usage: 39.2+ KB\n"
     ]
    }
   ],
   "source": [
    "\n",
    "hdd_csv.info()"
   ]
  },
  {
   "cell_type": "code",
   "execution_count": 11,
   "metadata": {},
   "outputs": [
    {
     "name": "stdout",
     "output_type": "stream",
     "text": [
      "<class 'pandas.core.frame.DataFrame'>\n",
      "RangeIndex: 1000 entries, 0 to 999\n",
      "Data columns (total 6 columns):\n",
      "rental_id       1000 non-null int64\n",
      "rental_date     1000 non-null object\n",
      "inventory_id    1000 non-null int64\n",
      "customer_id     1000 non-null int64\n",
      "return_date     1000 non-null object\n",
      "staff_id        1000 non-null int64\n",
      "dtypes: int64(4), object(2)\n",
      "memory usage: 47.0+ KB\n"
     ]
    }
   ],
   "source": [
    "\n",
    "rental_csv.info()"
   ]
  },
  {
   "cell_type": "code",
   "execution_count": null,
   "metadata": {},
   "outputs": [],
   "source": []
  }
 ],
 "metadata": {
  "kernelspec": {
   "display_name": "Python 3",
   "language": "python",
   "name": "python3"
  },
  "language_info": {
   "codemirror_mode": {
    "name": "ipython",
    "version": 3
   },
   "file_extension": ".py",
   "mimetype": "text/x-python",
   "name": "python",
   "nbconvert_exporter": "python",
   "pygments_lexer": "ipython3",
   "version": "3.7.4"
  }
 },
 "nbformat": 4,
 "nbformat_minor": 2
}
